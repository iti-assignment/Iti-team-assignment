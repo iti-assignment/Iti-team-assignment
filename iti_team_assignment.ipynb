{
  "cells": [
    {
      "cell_type": "code",
      "execution_count": null,
      "metadata": {
        "id": "ESbHQvsj00Ta"
      },
      "outputs": [],
      "source": [
        "#Amar Emad Mohamed\n",
        "print('hello world from {Amar Emad Mohamed}')"
      ]
    },
    {
      "cell_type": "code",
      "execution_count": null,
      "metadata": {},
      "outputs": [],
      "source": [
        "#Ali Radi \n",
        "print('Hello World from Ali Radi')"
      ]
    }
  ],
  "metadata": {
    "colab": {
      "provenance": []
    },
    "kernelspec": {
      "display_name": "Python 3",
      "name": "python3"
    },
    "language_info": {
      "name": "python"
    }
  },
  "nbformat": 4,
  "nbformat_minor": 0
}
